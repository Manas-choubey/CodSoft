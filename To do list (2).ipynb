{
 "cells": [
  {
   "cell_type": "markdown",
   "id": "d2901668",
   "metadata": {},
   "source": [
    "# Python programming for \"to do list\""
   ]
  },
  {
   "cell_type": "code",
   "execution_count": null,
   "id": "181f0100",
   "metadata": {},
   "outputs": [],
   "source": [
    "tasks = []\n",
    "\n",
    "def show_tasks():\n",
    "    if not tasks:\n",
    "        print(\"No tasks in the to-do list.\")\n",
    "    else:\n",
    "        print(\"To-Do List:\")\n",
    "        for index, task in enumerate(tasks, start=1):\n",
    "            print(f\"{index}. {task}\")\n",
    "\n",
    "def add_task(task):\n",
    "    tasks.append(task)\n",
    "    print(f\"Task '{task}' added to the to-do list.\")\n",
    "\n",
    "def remove_task(index):\n",
    "    if 1 <= index <= len(tasks):\n",
    "        removed_task = tasks.pop(index - 1)\n",
    "        print(f\"Task '{removed_task}' removed from the to-do list.\")\n",
    "    else:\n",
    "        print(\"Invalid index. No task removed.\")\n",
    "\n",
    "def main():\n",
    "    while True:\n",
    "        print(\"\\nMenu:\")\n",
    "        print(\"1. Show Tasks\")\n",
    "        print(\"2. Add Task\")\n",
    "        print(\"3. Remove Task\")\n",
    "        print(\"4. Quit\")\n",
    "        choice = input(\"Enter your choice: \")\n",
    "\n",
    "        if choice == '1':\n",
    "            show_tasks()\n",
    "        elif choice == '2':\n",
    "            task = input(\"Enter the task: \")\n",
    "            add_task(task)\n",
    "        elif choice == '3':\n",
    "            show_tasks()\n",
    "            index = int(input(\"Enter the index of the task to remove: \"))\n",
    "            remove_task(index)\n",
    "        elif choice == '4':\n",
    "            print(\"Goodbye!\")\n",
    "            break\n",
    "        else:\n",
    "            print(\"Invalid choice. Please select a valid option.\")\n",
    "\n",
    "if __name__ == \"__main__\":\n",
    "    main()"
   ]
  }
 ],
 "metadata": {
  "kernelspec": {
   "display_name": "Python 3 (ipykernel)",
   "language": "python",
   "name": "python3"
  },
  "language_info": {
   "codemirror_mode": {
    "name": "ipython",
    "version": 3
   },
   "file_extension": ".py",
   "mimetype": "text/x-python",
   "name": "python",
   "nbconvert_exporter": "python",
   "pygments_lexer": "ipython3",
   "version": "3.10.9"
  }
 },
 "nbformat": 4,
 "nbformat_minor": 5
}
